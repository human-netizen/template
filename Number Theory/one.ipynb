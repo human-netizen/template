{
 "cells": [
  {
   "cell_type": "markdown",
   "id": "dc9e8c21",
   "metadata": {},
   "source": [
    "### Comparative Analysis of Human Pose Estimation Methods with Fall Detection and Smart Alarming System\n",
    "[Link](https://doi.org/10.52783/jes.1996)"
   ]
  },
  {
   "cell_type": "markdown",
   "id": "c161be21",
   "metadata": {},
   "source": [
    "#### Virtual environment\n",
    "python -m venv venv\n",
    "\n",
    "source venv/bin/activate\n",
    "\n",
    "#### Installation\n",
    "pip install --upgrade pip\n",
    "\n",
    "\n",
    "pip install tensorflow opencv-python numpy matplotlib scikit-learn pandas\n",
    "\n",
    "\n",
    "\n"
   ]
  },
  {
   "cell_type": "markdown",
   "id": "a35c7289",
   "metadata": {},
   "source": [
    "#### Model Download\n",
    "wget -q -O model.tflite https://tfhub.dev/google/lite-model/movenet/singlepose/lightning/tflite/float16/4?lite-format=tflite"
   ]
  },
  {
   "cell_type": "code",
   "execution_count": 1,
   "id": "22409cab",
   "metadata": {},
   "outputs": [
    {
     "ename": "ModuleNotFoundError",
     "evalue": "No module named 'tensorflow'",
     "output_type": "error",
     "traceback": [
      "\u001b[0;31m---------------------------------------------------------------------------\u001b[0m",
      "\u001b[0;31mModuleNotFoundError\u001b[0m                       Traceback (most recent call last)",
      "Cell \u001b[0;32mIn[1], line 1\u001b[0m\n\u001b[0;32m----> 1\u001b[0m \u001b[38;5;28;01mimport\u001b[39;00m \u001b[38;5;21;01mcv2\u001b[39;00m\u001b[38;5;241m,\u001b[39m \u001b[38;5;21;01mnumpy\u001b[39;00m \u001b[38;5;28;01mas\u001b[39;00m \u001b[38;5;21;01mnp\u001b[39;00m\u001b[38;5;241m,\u001b[39m \u001b[38;5;21;01mtensorflow\u001b[39;00m \u001b[38;5;28;01mas\u001b[39;00m \u001b[38;5;21;01mtf\u001b[39;00m\n\u001b[1;32m      3\u001b[0m MODEL_PATH \u001b[38;5;241m=\u001b[39m \u001b[38;5;124m\"\u001b[39m\u001b[38;5;124mmovenet_lightning.tflite\u001b[39m\u001b[38;5;124m\"\u001b[39m\n\u001b[1;32m      4\u001b[0m INPUT_SIZE \u001b[38;5;241m=\u001b[39m \u001b[38;5;241m192\u001b[39m\n",
      "\u001b[0;31mModuleNotFoundError\u001b[0m: No module named 'tensorflow'"
     ]
    }
   ],
   "source": [
    "import cv2, numpy as np, tensorflow as tf\n",
    "\n",
    "MODEL_PATH = \"movenet_lightning.tflite\"\n",
    "INPUT_SIZE = 192\n",
    "\n",
    "# load interpreter\n",
    "interpreter = tf.lite.Interpreter(model_path=MODEL_PATH)\n",
    "interpreter.allocate_tensors()\n",
    "input_details = interpreter.get_input_details()\n",
    "output_details = interpreter.get_output_details()"
   ]
  }
 ],
 "metadata": {
  "kernelspec": {
   "display_name": "Python 3",
   "language": "python",
   "name": "python3"
  },
  "language_info": {
   "codemirror_mode": {
    "name": "ipython",
    "version": 3
   },
   "file_extension": ".py",
   "mimetype": "text/x-python",
   "name": "python",
   "nbconvert_exporter": "python",
   "pygments_lexer": "ipython3",
   "version": "3.10.12"
  }
 },
 "nbformat": 4,
 "nbformat_minor": 5
}
